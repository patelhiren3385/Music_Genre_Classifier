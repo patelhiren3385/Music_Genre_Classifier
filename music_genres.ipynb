{
 "cells": [
  {
   "cell_type": "markdown",
   "metadata": {},
   "source": [
    "# Music Genre Classification"
   ]
  },
  {
   "cell_type": "markdown",
   "metadata": {},
   "source": [
    "# By :- Ravi Kumar Verma "
   ]
  },
  {
   "cell_type": "code",
   "execution_count": 1,
   "metadata": {},
   "outputs": [],
   "source": [
    "import numpy as np\n",
    "import pandas as pd\n",
    "import matplotlib.pyplot as plt\n",
    "import seaborn as sns\n",
    "from sklearn.model_selection import train_test_split\n",
    "from sklearn.preprocessing import LabelEncoder"
   ]
  },
  {
   "cell_type": "code",
   "execution_count": 2,
   "metadata": {},
   "outputs": [
    {
     "data": {
      "text/html": [
       "<div>\n",
       "<style scoped>\n",
       "    .dataframe tbody tr th:only-of-type {\n",
       "        vertical-align: middle;\n",
       "    }\n",
       "\n",
       "    .dataframe tbody tr th {\n",
       "        vertical-align: top;\n",
       "    }\n",
       "\n",
       "    .dataframe thead th {\n",
       "        text-align: right;\n",
       "    }\n",
       "</style>\n",
       "<table border=\"1\" class=\"dataframe\">\n",
       "  <thead>\n",
       "    <tr style=\"text-align: right;\">\n",
       "      <th></th>\n",
       "      <th>Unnamed: 0</th>\n",
       "      <th>chroma_stft</th>\n",
       "      <th>rmse</th>\n",
       "      <th>spectral_centroid</th>\n",
       "      <th>spectral_bandwidth</th>\n",
       "      <th>rolloff</th>\n",
       "      <th>zero_crossing_rate</th>\n",
       "      <th>mfcc1</th>\n",
       "      <th>mfcc2</th>\n",
       "      <th>mfcc3</th>\n",
       "      <th>...</th>\n",
       "      <th>mfcc12</th>\n",
       "      <th>mfcc13</th>\n",
       "      <th>mfcc14</th>\n",
       "      <th>mfcc15</th>\n",
       "      <th>mfcc16</th>\n",
       "      <th>mfcc17</th>\n",
       "      <th>mfcc18</th>\n",
       "      <th>mfcc19</th>\n",
       "      <th>mfcc20</th>\n",
       "      <th>label</th>\n",
       "    </tr>\n",
       "  </thead>\n",
       "  <tbody>\n",
       "    <tr>\n",
       "      <td>0</td>\n",
       "      <td>0</td>\n",
       "      <td>0.380260</td>\n",
       "      <td>0.248262</td>\n",
       "      <td>2116.942959</td>\n",
       "      <td>1956.611056</td>\n",
       "      <td>4196.107960</td>\n",
       "      <td>0.127272</td>\n",
       "      <td>-26.929785</td>\n",
       "      <td>107.334008</td>\n",
       "      <td>-46.809993</td>\n",
       "      <td>...</td>\n",
       "      <td>14.336612</td>\n",
       "      <td>-13.821769</td>\n",
       "      <td>7.562789</td>\n",
       "      <td>-6.181372</td>\n",
       "      <td>0.330165</td>\n",
       "      <td>-6.829571</td>\n",
       "      <td>0.965922</td>\n",
       "      <td>-7.570825</td>\n",
       "      <td>2.918987</td>\n",
       "      <td>blues</td>\n",
       "    </tr>\n",
       "    <tr>\n",
       "      <td>1</td>\n",
       "      <td>1</td>\n",
       "      <td>0.306451</td>\n",
       "      <td>0.113475</td>\n",
       "      <td>1156.070496</td>\n",
       "      <td>1497.668176</td>\n",
       "      <td>2170.053545</td>\n",
       "      <td>0.058613</td>\n",
       "      <td>-233.860772</td>\n",
       "      <td>136.170239</td>\n",
       "      <td>3.289490</td>\n",
       "      <td>...</td>\n",
       "      <td>-2.250578</td>\n",
       "      <td>3.959198</td>\n",
       "      <td>5.322555</td>\n",
       "      <td>0.812028</td>\n",
       "      <td>-1.107202</td>\n",
       "      <td>-4.556555</td>\n",
       "      <td>-2.436490</td>\n",
       "      <td>3.316913</td>\n",
       "      <td>-0.608485</td>\n",
       "      <td>blues</td>\n",
       "    </tr>\n",
       "    <tr>\n",
       "      <td>2</td>\n",
       "      <td>2</td>\n",
       "      <td>0.253487</td>\n",
       "      <td>0.151571</td>\n",
       "      <td>1331.073970</td>\n",
       "      <td>1973.643437</td>\n",
       "      <td>2900.174130</td>\n",
       "      <td>0.042967</td>\n",
       "      <td>-221.802549</td>\n",
       "      <td>110.843071</td>\n",
       "      <td>18.620984</td>\n",
       "      <td>...</td>\n",
       "      <td>-13.037723</td>\n",
       "      <td>-12.652228</td>\n",
       "      <td>-1.821905</td>\n",
       "      <td>-7.260097</td>\n",
       "      <td>-6.660252</td>\n",
       "      <td>-14.682694</td>\n",
       "      <td>-11.719264</td>\n",
       "      <td>-11.025216</td>\n",
       "      <td>-13.387260</td>\n",
       "      <td>blues</td>\n",
       "    </tr>\n",
       "    <tr>\n",
       "      <td>3</td>\n",
       "      <td>3</td>\n",
       "      <td>0.269320</td>\n",
       "      <td>0.119072</td>\n",
       "      <td>1361.045467</td>\n",
       "      <td>1567.804596</td>\n",
       "      <td>2739.625101</td>\n",
       "      <td>0.069124</td>\n",
       "      <td>-207.208080</td>\n",
       "      <td>132.799175</td>\n",
       "      <td>-15.438986</td>\n",
       "      <td>...</td>\n",
       "      <td>-0.613248</td>\n",
       "      <td>0.384877</td>\n",
       "      <td>2.605128</td>\n",
       "      <td>-5.188924</td>\n",
       "      <td>-9.527455</td>\n",
       "      <td>-9.244394</td>\n",
       "      <td>-2.848274</td>\n",
       "      <td>-1.418707</td>\n",
       "      <td>-5.932607</td>\n",
       "      <td>blues</td>\n",
       "    </tr>\n",
       "    <tr>\n",
       "      <td>4</td>\n",
       "      <td>4</td>\n",
       "      <td>0.391059</td>\n",
       "      <td>0.137728</td>\n",
       "      <td>1811.076084</td>\n",
       "      <td>2052.332563</td>\n",
       "      <td>3927.809582</td>\n",
       "      <td>0.075480</td>\n",
       "      <td>-145.434568</td>\n",
       "      <td>102.829023</td>\n",
       "      <td>-12.517677</td>\n",
       "      <td>...</td>\n",
       "      <td>7.457218</td>\n",
       "      <td>-10.470444</td>\n",
       "      <td>-2.360483</td>\n",
       "      <td>-6.783624</td>\n",
       "      <td>2.671134</td>\n",
       "      <td>-4.760879</td>\n",
       "      <td>-0.949005</td>\n",
       "      <td>0.024832</td>\n",
       "      <td>-2.005315</td>\n",
       "      <td>blues</td>\n",
       "    </tr>\n",
       "  </tbody>\n",
       "</table>\n",
       "<p>5 rows × 28 columns</p>\n",
       "</div>"
      ],
      "text/plain": [
       "   Unnamed: 0  chroma_stft      rmse  spectral_centroid  spectral_bandwidth  \\\n",
       "0           0     0.380260  0.248262        2116.942959         1956.611056   \n",
       "1           1     0.306451  0.113475        1156.070496         1497.668176   \n",
       "2           2     0.253487  0.151571        1331.073970         1973.643437   \n",
       "3           3     0.269320  0.119072        1361.045467         1567.804596   \n",
       "4           4     0.391059  0.137728        1811.076084         2052.332563   \n",
       "\n",
       "       rolloff  zero_crossing_rate       mfcc1       mfcc2      mfcc3  ...  \\\n",
       "0  4196.107960            0.127272  -26.929785  107.334008 -46.809993  ...   \n",
       "1  2170.053545            0.058613 -233.860772  136.170239   3.289490  ...   \n",
       "2  2900.174130            0.042967 -221.802549  110.843071  18.620984  ...   \n",
       "3  2739.625101            0.069124 -207.208080  132.799175 -15.438986  ...   \n",
       "4  3927.809582            0.075480 -145.434568  102.829023 -12.517677  ...   \n",
       "\n",
       "      mfcc12     mfcc13    mfcc14    mfcc15    mfcc16     mfcc17     mfcc18  \\\n",
       "0  14.336612 -13.821769  7.562789 -6.181372  0.330165  -6.829571   0.965922   \n",
       "1  -2.250578   3.959198  5.322555  0.812028 -1.107202  -4.556555  -2.436490   \n",
       "2 -13.037723 -12.652228 -1.821905 -7.260097 -6.660252 -14.682694 -11.719264   \n",
       "3  -0.613248   0.384877  2.605128 -5.188924 -9.527455  -9.244394  -2.848274   \n",
       "4   7.457218 -10.470444 -2.360483 -6.783624  2.671134  -4.760879  -0.949005   \n",
       "\n",
       "      mfcc19     mfcc20  label  \n",
       "0  -7.570825   2.918987  blues  \n",
       "1   3.316913  -0.608485  blues  \n",
       "2 -11.025216 -13.387260  blues  \n",
       "3  -1.418707  -5.932607  blues  \n",
       "4   0.024832  -2.005315  blues  \n",
       "\n",
       "[5 rows x 28 columns]"
      ]
     },
     "execution_count": 2,
     "metadata": {},
     "output_type": "execute_result"
    }
   ],
   "source": [
    "df = pd.read_csv('music_genres.csv')\n",
    "df.head()"
   ]
  },
  {
   "cell_type": "code",
   "execution_count": 3,
   "metadata": {},
   "outputs": [
    {
     "name": "stdout",
     "output_type": "stream",
     "text": [
      "<class 'pandas.core.frame.DataFrame'>\n",
      "RangeIndex: 1000 entries, 0 to 999\n",
      "Data columns (total 28 columns):\n",
      "Unnamed: 0            1000 non-null int64\n",
      "chroma_stft           1000 non-null float64\n",
      "rmse                  1000 non-null float64\n",
      "spectral_centroid     1000 non-null float64\n",
      "spectral_bandwidth    1000 non-null float64\n",
      "rolloff               1000 non-null float64\n",
      "zero_crossing_rate    1000 non-null float64\n",
      "mfcc1                 1000 non-null float64\n",
      "mfcc2                 1000 non-null float64\n",
      "mfcc3                 1000 non-null float64\n",
      "mfcc4                 1000 non-null float64\n",
      "mfcc5                 1000 non-null float64\n",
      "mfcc6                 1000 non-null float64\n",
      "mfcc7                 1000 non-null float64\n",
      "mfcc8                 1000 non-null float64\n",
      "mfcc9                 1000 non-null float64\n",
      "mfcc10                1000 non-null float64\n",
      "mfcc11                1000 non-null float64\n",
      "mfcc12                1000 non-null float64\n",
      "mfcc13                1000 non-null float64\n",
      "mfcc14                1000 non-null float64\n",
      "mfcc15                1000 non-null float64\n",
      "mfcc16                1000 non-null float64\n",
      "mfcc17                1000 non-null float64\n",
      "mfcc18                1000 non-null float64\n",
      "mfcc19                1000 non-null float64\n",
      "mfcc20                1000 non-null float64\n",
      "label                 1000 non-null object\n",
      "dtypes: float64(26), int64(1), object(1)\n",
      "memory usage: 218.9+ KB\n"
     ]
    }
   ],
   "source": [
    "df.info()"
   ]
  },
  {
   "cell_type": "code",
   "execution_count": 4,
   "metadata": {},
   "outputs": [
    {
     "data": {
      "text/plain": [
       "Unnamed: 0            0\n",
       "chroma_stft           0\n",
       "rmse                  0\n",
       "spectral_centroid     0\n",
       "spectral_bandwidth    0\n",
       "rolloff               0\n",
       "zero_crossing_rate    0\n",
       "mfcc1                 0\n",
       "mfcc2                 0\n",
       "mfcc3                 0\n",
       "mfcc4                 0\n",
       "mfcc5                 0\n",
       "mfcc6                 0\n",
       "mfcc7                 0\n",
       "mfcc8                 0\n",
       "mfcc9                 0\n",
       "mfcc10                0\n",
       "mfcc11                0\n",
       "mfcc12                0\n",
       "mfcc13                0\n",
       "mfcc14                0\n",
       "mfcc15                0\n",
       "mfcc16                0\n",
       "mfcc17                0\n",
       "mfcc18                0\n",
       "mfcc19                0\n",
       "mfcc20                0\n",
       "label                 0\n",
       "dtype: int64"
      ]
     },
     "execution_count": 4,
     "metadata": {},
     "output_type": "execute_result"
    }
   ],
   "source": [
    "df.isnull().sum()"
   ]
  },
  {
   "cell_type": "code",
   "execution_count": 5,
   "metadata": {},
   "outputs": [
    {
     "data": {
      "text/plain": [
       "Unnamed: 0              int64\n",
       "chroma_stft           float64\n",
       "rmse                  float64\n",
       "spectral_centroid     float64\n",
       "spectral_bandwidth    float64\n",
       "rolloff               float64\n",
       "zero_crossing_rate    float64\n",
       "mfcc1                 float64\n",
       "mfcc2                 float64\n",
       "mfcc3                 float64\n",
       "mfcc4                 float64\n",
       "mfcc5                 float64\n",
       "mfcc6                 float64\n",
       "mfcc7                 float64\n",
       "mfcc8                 float64\n",
       "mfcc9                 float64\n",
       "mfcc10                float64\n",
       "mfcc11                float64\n",
       "mfcc12                float64\n",
       "mfcc13                float64\n",
       "mfcc14                float64\n",
       "mfcc15                float64\n",
       "mfcc16                float64\n",
       "mfcc17                float64\n",
       "mfcc18                float64\n",
       "mfcc19                float64\n",
       "mfcc20                float64\n",
       "label                  object\n",
       "dtype: object"
      ]
     },
     "execution_count": 5,
     "metadata": {},
     "output_type": "execute_result"
    }
   ],
   "source": [
    "df.dtypes"
   ]
  },
  {
   "cell_type": "code",
   "execution_count": 6,
   "metadata": {},
   "outputs": [],
   "source": [
    "X = df.drop('label',1)\n",
    "y = df['label'].copy()"
   ]
  },
  {
   "cell_type": "code",
   "execution_count": 7,
   "metadata": {},
   "outputs": [
    {
     "data": {
      "text/html": [
       "<div>\n",
       "<style scoped>\n",
       "    .dataframe tbody tr th:only-of-type {\n",
       "        vertical-align: middle;\n",
       "    }\n",
       "\n",
       "    .dataframe tbody tr th {\n",
       "        vertical-align: top;\n",
       "    }\n",
       "\n",
       "    .dataframe thead th {\n",
       "        text-align: right;\n",
       "    }\n",
       "</style>\n",
       "<table border=\"1\" class=\"dataframe\">\n",
       "  <thead>\n",
       "    <tr style=\"text-align: right;\">\n",
       "      <th></th>\n",
       "      <th>Unnamed: 0</th>\n",
       "      <th>chroma_stft</th>\n",
       "      <th>rmse</th>\n",
       "      <th>spectral_centroid</th>\n",
       "      <th>spectral_bandwidth</th>\n",
       "      <th>rolloff</th>\n",
       "      <th>zero_crossing_rate</th>\n",
       "      <th>mfcc1</th>\n",
       "      <th>mfcc2</th>\n",
       "      <th>mfcc3</th>\n",
       "      <th>...</th>\n",
       "      <th>mfcc11</th>\n",
       "      <th>mfcc12</th>\n",
       "      <th>mfcc13</th>\n",
       "      <th>mfcc14</th>\n",
       "      <th>mfcc15</th>\n",
       "      <th>mfcc16</th>\n",
       "      <th>mfcc17</th>\n",
       "      <th>mfcc18</th>\n",
       "      <th>mfcc19</th>\n",
       "      <th>mfcc20</th>\n",
       "    </tr>\n",
       "  </thead>\n",
       "  <tbody>\n",
       "    <tr>\n",
       "      <td>0</td>\n",
       "      <td>0</td>\n",
       "      <td>0.380260</td>\n",
       "      <td>0.248262</td>\n",
       "      <td>2116.942959</td>\n",
       "      <td>1956.611056</td>\n",
       "      <td>4196.107960</td>\n",
       "      <td>0.127272</td>\n",
       "      <td>-26.929785</td>\n",
       "      <td>107.334008</td>\n",
       "      <td>-46.809993</td>\n",
       "      <td>...</td>\n",
       "      <td>-15.234050</td>\n",
       "      <td>14.336612</td>\n",
       "      <td>-13.821769</td>\n",
       "      <td>7.562789</td>\n",
       "      <td>-6.181372</td>\n",
       "      <td>0.330165</td>\n",
       "      <td>-6.829571</td>\n",
       "      <td>0.965922</td>\n",
       "      <td>-7.570825</td>\n",
       "      <td>2.918987</td>\n",
       "    </tr>\n",
       "    <tr>\n",
       "      <td>1</td>\n",
       "      <td>1</td>\n",
       "      <td>0.306451</td>\n",
       "      <td>0.113475</td>\n",
       "      <td>1156.070496</td>\n",
       "      <td>1497.668176</td>\n",
       "      <td>2170.053545</td>\n",
       "      <td>0.058613</td>\n",
       "      <td>-233.860772</td>\n",
       "      <td>136.170239</td>\n",
       "      <td>3.289490</td>\n",
       "      <td>...</td>\n",
       "      <td>5.145258</td>\n",
       "      <td>-2.250578</td>\n",
       "      <td>3.959198</td>\n",
       "      <td>5.322555</td>\n",
       "      <td>0.812028</td>\n",
       "      <td>-1.107202</td>\n",
       "      <td>-4.556555</td>\n",
       "      <td>-2.436490</td>\n",
       "      <td>3.316913</td>\n",
       "      <td>-0.608485</td>\n",
       "    </tr>\n",
       "    <tr>\n",
       "      <td>2</td>\n",
       "      <td>2</td>\n",
       "      <td>0.253487</td>\n",
       "      <td>0.151571</td>\n",
       "      <td>1331.073970</td>\n",
       "      <td>1973.643437</td>\n",
       "      <td>2900.174130</td>\n",
       "      <td>0.042967</td>\n",
       "      <td>-221.802549</td>\n",
       "      <td>110.843071</td>\n",
       "      <td>18.620984</td>\n",
       "      <td>...</td>\n",
       "      <td>-26.406674</td>\n",
       "      <td>-13.037723</td>\n",
       "      <td>-12.652228</td>\n",
       "      <td>-1.821905</td>\n",
       "      <td>-7.260097</td>\n",
       "      <td>-6.660252</td>\n",
       "      <td>-14.682694</td>\n",
       "      <td>-11.719264</td>\n",
       "      <td>-11.025216</td>\n",
       "      <td>-13.387260</td>\n",
       "    </tr>\n",
       "    <tr>\n",
       "      <td>3</td>\n",
       "      <td>3</td>\n",
       "      <td>0.269320</td>\n",
       "      <td>0.119072</td>\n",
       "      <td>1361.045467</td>\n",
       "      <td>1567.804596</td>\n",
       "      <td>2739.625101</td>\n",
       "      <td>0.069124</td>\n",
       "      <td>-207.208080</td>\n",
       "      <td>132.799175</td>\n",
       "      <td>-15.438986</td>\n",
       "      <td>...</td>\n",
       "      <td>-2.452068</td>\n",
       "      <td>-0.613248</td>\n",
       "      <td>0.384877</td>\n",
       "      <td>2.605128</td>\n",
       "      <td>-5.188924</td>\n",
       "      <td>-9.527455</td>\n",
       "      <td>-9.244394</td>\n",
       "      <td>-2.848274</td>\n",
       "      <td>-1.418707</td>\n",
       "      <td>-5.932607</td>\n",
       "    </tr>\n",
       "    <tr>\n",
       "      <td>4</td>\n",
       "      <td>4</td>\n",
       "      <td>0.391059</td>\n",
       "      <td>0.137728</td>\n",
       "      <td>1811.076084</td>\n",
       "      <td>2052.332563</td>\n",
       "      <td>3927.809582</td>\n",
       "      <td>0.075480</td>\n",
       "      <td>-145.434568</td>\n",
       "      <td>102.829023</td>\n",
       "      <td>-12.517677</td>\n",
       "      <td>...</td>\n",
       "      <td>-6.934599</td>\n",
       "      <td>7.457218</td>\n",
       "      <td>-10.470444</td>\n",
       "      <td>-2.360483</td>\n",
       "      <td>-6.783624</td>\n",
       "      <td>2.671134</td>\n",
       "      <td>-4.760879</td>\n",
       "      <td>-0.949005</td>\n",
       "      <td>0.024832</td>\n",
       "      <td>-2.005315</td>\n",
       "    </tr>\n",
       "    <tr>\n",
       "      <td>...</td>\n",
       "      <td>...</td>\n",
       "      <td>...</td>\n",
       "      <td>...</td>\n",
       "      <td>...</td>\n",
       "      <td>...</td>\n",
       "      <td>...</td>\n",
       "      <td>...</td>\n",
       "      <td>...</td>\n",
       "      <td>...</td>\n",
       "      <td>...</td>\n",
       "      <td>...</td>\n",
       "      <td>...</td>\n",
       "      <td>...</td>\n",
       "      <td>...</td>\n",
       "      <td>...</td>\n",
       "      <td>...</td>\n",
       "      <td>...</td>\n",
       "      <td>...</td>\n",
       "      <td>...</td>\n",
       "      <td>...</td>\n",
       "      <td>...</td>\n",
       "    </tr>\n",
       "    <tr>\n",
       "      <td>995</td>\n",
       "      <td>995</td>\n",
       "      <td>0.418812</td>\n",
       "      <td>0.166056</td>\n",
       "      <td>2312.030070</td>\n",
       "      <td>2060.825761</td>\n",
       "      <td>4528.197619</td>\n",
       "      <td>0.140588</td>\n",
       "      <td>-41.402023</td>\n",
       "      <td>105.403012</td>\n",
       "      <td>-43.945538</td>\n",
       "      <td>...</td>\n",
       "      <td>-15.174259</td>\n",
       "      <td>11.303100</td>\n",
       "      <td>-14.155566</td>\n",
       "      <td>2.824157</td>\n",
       "      <td>-9.477822</td>\n",
       "      <td>3.331261</td>\n",
       "      <td>-8.200088</td>\n",
       "      <td>3.693091</td>\n",
       "      <td>-3.673562</td>\n",
       "      <td>-0.163201</td>\n",
       "    </tr>\n",
       "    <tr>\n",
       "      <td>996</td>\n",
       "      <td>996</td>\n",
       "      <td>0.335774</td>\n",
       "      <td>0.093676</td>\n",
       "      <td>2553.856706</td>\n",
       "      <td>2219.090892</td>\n",
       "      <td>5123.752351</td>\n",
       "      <td>0.136173</td>\n",
       "      <td>-121.410791</td>\n",
       "      <td>89.522283</td>\n",
       "      <td>-33.497073</td>\n",
       "      <td>...</td>\n",
       "      <td>-16.957086</td>\n",
       "      <td>9.149520</td>\n",
       "      <td>-10.112054</td>\n",
       "      <td>4.211237</td>\n",
       "      <td>-9.349345</td>\n",
       "      <td>1.609701</td>\n",
       "      <td>-10.553566</td>\n",
       "      <td>1.066489</td>\n",
       "      <td>-1.654875</td>\n",
       "      <td>7.544224</td>\n",
       "    </tr>\n",
       "    <tr>\n",
       "      <td>997</td>\n",
       "      <td>997</td>\n",
       "      <td>0.372834</td>\n",
       "      <td>0.208743</td>\n",
       "      <td>1345.850763</td>\n",
       "      <td>1841.748033</td>\n",
       "      <td>2939.265560</td>\n",
       "      <td>0.041099</td>\n",
       "      <td>-127.946876</td>\n",
       "      <td>134.443878</td>\n",
       "      <td>1.027332</td>\n",
       "      <td>...</td>\n",
       "      <td>-6.700004</td>\n",
       "      <td>11.043714</td>\n",
       "      <td>-8.385375</td>\n",
       "      <td>2.111019</td>\n",
       "      <td>-6.338260</td>\n",
       "      <td>0.997383</td>\n",
       "      <td>-5.325869</td>\n",
       "      <td>-0.842192</td>\n",
       "      <td>-4.665996</td>\n",
       "      <td>-4.787677</td>\n",
       "    </tr>\n",
       "    <tr>\n",
       "      <td>998</td>\n",
       "      <td>998</td>\n",
       "      <td>0.344472</td>\n",
       "      <td>0.180163</td>\n",
       "      <td>1675.475369</td>\n",
       "      <td>1653.422860</td>\n",
       "      <td>3253.563659</td>\n",
       "      <td>0.087294</td>\n",
       "      <td>-98.356322</td>\n",
       "      <td>136.611573</td>\n",
       "      <td>-46.700574</td>\n",
       "      <td>...</td>\n",
       "      <td>-12.647550</td>\n",
       "      <td>2.945863</td>\n",
       "      <td>-12.509212</td>\n",
       "      <td>0.091337</td>\n",
       "      <td>-0.774780</td>\n",
       "      <td>-5.700102</td>\n",
       "      <td>-8.630916</td>\n",
       "      <td>-1.903803</td>\n",
       "      <td>-2.196753</td>\n",
       "      <td>-3.395148</td>\n",
       "    </tr>\n",
       "    <tr>\n",
       "      <td>999</td>\n",
       "      <td>999</td>\n",
       "      <td>0.360098</td>\n",
       "      <td>0.042995</td>\n",
       "      <td>2209.357588</td>\n",
       "      <td>2175.214294</td>\n",
       "      <td>4575.588999</td>\n",
       "      <td>0.107147</td>\n",
       "      <td>-245.160921</td>\n",
       "      <td>95.089813</td>\n",
       "      <td>-21.228014</td>\n",
       "      <td>...</td>\n",
       "      <td>-9.282356</td>\n",
       "      <td>0.813777</td>\n",
       "      <td>-13.018360</td>\n",
       "      <td>0.053168</td>\n",
       "      <td>-8.232851</td>\n",
       "      <td>1.059255</td>\n",
       "      <td>-8.031864</td>\n",
       "      <td>-0.397097</td>\n",
       "      <td>-4.349921</td>\n",
       "      <td>-4.220998</td>\n",
       "    </tr>\n",
       "  </tbody>\n",
       "</table>\n",
       "<p>1000 rows × 27 columns</p>\n",
       "</div>"
      ],
      "text/plain": [
       "     Unnamed: 0  chroma_stft      rmse  spectral_centroid  spectral_bandwidth  \\\n",
       "0             0     0.380260  0.248262        2116.942959         1956.611056   \n",
       "1             1     0.306451  0.113475        1156.070496         1497.668176   \n",
       "2             2     0.253487  0.151571        1331.073970         1973.643437   \n",
       "3             3     0.269320  0.119072        1361.045467         1567.804596   \n",
       "4             4     0.391059  0.137728        1811.076084         2052.332563   \n",
       "..          ...          ...       ...                ...                 ...   \n",
       "995         995     0.418812  0.166056        2312.030070         2060.825761   \n",
       "996         996     0.335774  0.093676        2553.856706         2219.090892   \n",
       "997         997     0.372834  0.208743        1345.850763         1841.748033   \n",
       "998         998     0.344472  0.180163        1675.475369         1653.422860   \n",
       "999         999     0.360098  0.042995        2209.357588         2175.214294   \n",
       "\n",
       "         rolloff  zero_crossing_rate       mfcc1       mfcc2      mfcc3  ...  \\\n",
       "0    4196.107960            0.127272  -26.929785  107.334008 -46.809993  ...   \n",
       "1    2170.053545            0.058613 -233.860772  136.170239   3.289490  ...   \n",
       "2    2900.174130            0.042967 -221.802549  110.843071  18.620984  ...   \n",
       "3    2739.625101            0.069124 -207.208080  132.799175 -15.438986  ...   \n",
       "4    3927.809582            0.075480 -145.434568  102.829023 -12.517677  ...   \n",
       "..           ...                 ...         ...         ...        ...  ...   \n",
       "995  4528.197619            0.140588  -41.402023  105.403012 -43.945538  ...   \n",
       "996  5123.752351            0.136173 -121.410791   89.522283 -33.497073  ...   \n",
       "997  2939.265560            0.041099 -127.946876  134.443878   1.027332  ...   \n",
       "998  3253.563659            0.087294  -98.356322  136.611573 -46.700574  ...   \n",
       "999  4575.588999            0.107147 -245.160921   95.089813 -21.228014  ...   \n",
       "\n",
       "        mfcc11     mfcc12     mfcc13    mfcc14    mfcc15    mfcc16     mfcc17  \\\n",
       "0   -15.234050  14.336612 -13.821769  7.562789 -6.181372  0.330165  -6.829571   \n",
       "1     5.145258  -2.250578   3.959198  5.322555  0.812028 -1.107202  -4.556555   \n",
       "2   -26.406674 -13.037723 -12.652228 -1.821905 -7.260097 -6.660252 -14.682694   \n",
       "3    -2.452068  -0.613248   0.384877  2.605128 -5.188924 -9.527455  -9.244394   \n",
       "4    -6.934599   7.457218 -10.470444 -2.360483 -6.783624  2.671134  -4.760879   \n",
       "..         ...        ...        ...       ...       ...       ...        ...   \n",
       "995 -15.174259  11.303100 -14.155566  2.824157 -9.477822  3.331261  -8.200088   \n",
       "996 -16.957086   9.149520 -10.112054  4.211237 -9.349345  1.609701 -10.553566   \n",
       "997  -6.700004  11.043714  -8.385375  2.111019 -6.338260  0.997383  -5.325869   \n",
       "998 -12.647550   2.945863 -12.509212  0.091337 -0.774780 -5.700102  -8.630916   \n",
       "999  -9.282356   0.813777 -13.018360  0.053168 -8.232851  1.059255  -8.031864   \n",
       "\n",
       "        mfcc18     mfcc19     mfcc20  \n",
       "0     0.965922  -7.570825   2.918987  \n",
       "1    -2.436490   3.316913  -0.608485  \n",
       "2   -11.719264 -11.025216 -13.387260  \n",
       "3    -2.848274  -1.418707  -5.932607  \n",
       "4    -0.949005   0.024832  -2.005315  \n",
       "..         ...        ...        ...  \n",
       "995   3.693091  -3.673562  -0.163201  \n",
       "996   1.066489  -1.654875   7.544224  \n",
       "997  -0.842192  -4.665996  -4.787677  \n",
       "998  -1.903803  -2.196753  -3.395148  \n",
       "999  -0.397097  -4.349921  -4.220998  \n",
       "\n",
       "[1000 rows x 27 columns]"
      ]
     },
     "execution_count": 7,
     "metadata": {},
     "output_type": "execute_result"
    }
   ],
   "source": [
    "X"
   ]
  },
  {
   "cell_type": "code",
   "execution_count": 8,
   "metadata": {},
   "outputs": [
    {
     "data": {
      "text/plain": [
       "0      blues\n",
       "1      blues\n",
       "2      blues\n",
       "3      blues\n",
       "4      blues\n",
       "       ...  \n",
       "995     rock\n",
       "996     rock\n",
       "997     rock\n",
       "998     rock\n",
       "999     rock\n",
       "Name: label, Length: 1000, dtype: object"
      ]
     },
     "execution_count": 8,
     "metadata": {},
     "output_type": "execute_result"
    }
   ],
   "source": [
    "y"
   ]
  },
  {
   "cell_type": "code",
   "execution_count": 9,
   "metadata": {},
   "outputs": [],
   "source": [
    "le = LabelEncoder()\n",
    "le.fit_transform(y)\n",
    "X_train,X_test,y_train,y_test = train_test_split(X,y,test_size = 0.3 , random_state = 6)\n"
   ]
  },
  {
   "cell_type": "code",
   "execution_count": 10,
   "metadata": {},
   "outputs": [
    {
     "data": {
      "image/png": "[encoded data removed]",
      "text/plain": [
       "<Figure size 432x288 with 1 Axes>"
      ]
     },
     "metadata": {
      "needs_background": "light"
     },
     "output_type": "display_data"
    },
    {
     "data": {
      "image/png": "[encoded data removed]",
      "text/plain": [
       "<Figure size 432x288 with 1 Axes>"
      ]
     },
     "metadata": {
      "needs_background": "light"
     },
     "output_type": "display_data"
    },
    {
     "data": {
      "image/png": "[encoded data removed]",
      "text/plain": [
       "<Figure size 432x288 with 1 Axes>"
      ]
     },
     "metadata": {
      "needs_background": "light"
     },
     "output_type": "display_data"
    }
   ],
   "source": [
    "bandwidth = X_train['spectral_bandwidth']\n",
    "sns.distplot(bandwidth)\n",
    "plt.show()\n",
    "zc_rate = X_train['zero_crossing_rate']\n",
    "sns.distplot(zc_rate)\n",
    "plt.show()\n",
    "centroid = X_train['spectral_centroid']\n",
    "sns.distplot(centroid)\n",
    "plt.show()"
   ]
  },
  {
   "cell_type": "code",
   "execution_count": 11,
   "metadata": {},
   "outputs": [],
   "source": [
    "from sklearn.preprocessing import StandardScaler\n",
    "from sklearn.linear_model import LogisticRegression\n",
    "from sklearn.metrics import accuracy_score\n"
   ]
  },
  {
   "cell_type": "code",
   "execution_count": 12,
   "metadata": {},
   "outputs": [],
   "source": [
    "sc = StandardScaler()\n",
    "sc.fit(X_train)\n",
    "X_train = sc.transform(X_train)\n",
    "X_test = sc.transform(X_test)\n"
   ]
  },
  {
   "cell_type": "code",
   "execution_count": 13,
   "metadata": {},
   "outputs": [
    {
     "data": {
      "text/plain": [
       "array([[ 0.04476453, -1.2330525 ,  0.46854568, ..., -0.55277989,\n",
       "        -0.18175462, -0.08358891],\n",
       "       [ 1.06596159,  1.34305   , -0.78603822, ...,  0.41837013,\n",
       "        -1.16397931, -1.11077317],\n",
       "       [-0.90027546, -0.06223292, -0.35029163, ..., -1.19773891,\n",
       "        -0.31934811, -2.4073724 ],\n",
       "       ...,\n",
       "       [-0.94873905, -1.05868179, -0.20599527, ..., -2.29694683,\n",
       "        -1.21728302, -2.42946806],\n",
       "       [ 0.73363984,  0.84857552,  0.91155031, ...,  0.17802325,\n",
       "         1.80788723,  0.73337976],\n",
       "       [ 1.40174503, -0.23505687,  0.38505587, ..., -1.36215247,\n",
       "        -0.08757679, -0.18183403]])"
      ]
     },
     "execution_count": 13,
     "metadata": {},
     "output_type": "execute_result"
    }
   ],
   "source": [
    "X_train"
   ]
  },
  {
   "cell_type": "code",
   "execution_count": 14,
   "metadata": {},
   "outputs": [
    {
     "data": {
      "text/plain": [
       "array([[ 1.65098635, -0.42871562, -0.39960497, ...,  0.28152295,\n",
       "        -2.24138315,  0.15093197],\n",
       "       [-1.65838447, -0.46015061, -0.55061729, ..., -0.06192901,\n",
       "         0.51831428,  0.43781643],\n",
       "       [ 1.41213009,  0.2963175 , -0.80624933, ..., -0.22091718,\n",
       "        -0.02530013, -0.8593201 ],\n",
       "       ...,\n",
       "       [-0.7756548 , -0.30364415,  0.31776232, ...,  1.14995839,\n",
       "        -0.2100278 , -0.58837101],\n",
       "       [-0.03139254,  1.01922503, -0.33507654, ..., -0.18326684,\n",
       "         0.42191537,  0.27766809],\n",
       "       [ 1.28058606,  1.11681867, -1.05260268, ...,  0.44428609,\n",
       "         0.84358292,  0.64277663]])"
      ]
     },
     "execution_count": 14,
     "metadata": {},
     "output_type": "execute_result"
    }
   ],
   "source": [
    "X_test"
   ]
  },
  {
   "cell_type": "code",
   "execution_count": 15,
   "metadata": {},
   "outputs": [],
   "source": [
    "lr = LogisticRegression()\n",
    "lr.fit(X_train,y_train)\n",
    "y_pred_lr = lr.predict(X_test)"
   ]
  },
  {
   "cell_type": "code",
   "execution_count": 16,
   "metadata": {},
   "outputs": [
    {
     "data": {
      "text/plain": [
       "array(['rock', 'blues', 'reggae', 'disco', 'hiphop', 'pop', 'country',\n",
       "       'rock', 'country', 'country', 'metal', 'blues', 'country',\n",
       "       'reggae', 'reggae', 'blues', 'jazz', 'country', 'blues', 'country',\n",
       "       'jazz', 'classical', 'hiphop', 'metal', 'pop', 'reggae', 'disco',\n",
       "       'disco', 'hiphop', 'blues', 'reggae', 'disco', 'blues', 'jazz',\n",
       "       'blues', 'blues', 'classical', 'country', 'pop', 'hiphop', 'pop',\n",
       "       'pop', 'reggae', 'pop', 'reggae', 'blues', 'rock', 'country',\n",
       "       'rock', 'pop', 'metal', 'country', 'reggae', 'classical', 'hiphop',\n",
       "       'classical', 'classical', 'classical', 'classical', 'classical',\n",
       "       'disco', 'rock', 'disco', 'country', 'country', 'blues', 'hiphop',\n",
       "       'classical', 'metal', 'jazz', 'classical', 'pop', 'disco',\n",
       "       'classical', 'hiphop', 'rock', 'metal', 'rock', 'classical',\n",
       "       'rock', 'blues', 'blues', 'rock', 'reggae', 'jazz', 'reggae',\n",
       "       'hiphop', 'classical', 'classical', 'disco', 'country', 'jazz',\n",
       "       'classical', 'classical', 'rock', 'classical', 'metal', 'metal',\n",
       "       'rock', 'disco', 'jazz', 'jazz', 'hiphop', 'metal', 'pop',\n",
       "       'hiphop', 'hiphop', 'country', 'hiphop', 'disco', 'disco', 'metal',\n",
       "       'blues', 'metal', 'jazz', 'blues', 'rock', 'blues', 'metal',\n",
       "       'classical', 'pop', 'blues', 'blues', 'rock', 'metal', 'metal',\n",
       "       'hiphop', 'jazz', 'classical', 'jazz', 'disco', 'blues', 'rock',\n",
       "       'hiphop', 'reggae', 'reggae', 'blues', 'country', 'rock', 'metal',\n",
       "       'reggae', 'country', 'metal', 'jazz', 'country', 'hiphop',\n",
       "       'hiphop', 'jazz', 'metal', 'pop', 'jazz', 'rock', 'classical',\n",
       "       'pop', 'disco', 'metal', 'classical', 'hiphop', 'hiphop', 'reggae',\n",
       "       'rock', 'disco', 'rock', 'metal', 'jazz', 'classical', 'hiphop',\n",
       "       'country', 'rock', 'metal', 'reggae', 'country', 'jazz', 'hiphop',\n",
       "       'reggae', 'disco', 'jazz', 'pop', 'hiphop', 'hiphop', 'pop',\n",
       "       'rock', 'hiphop', 'country', 'metal', 'disco', 'metal', 'disco',\n",
       "       'pop', 'jazz', 'reggae', 'pop', 'pop', 'blues', 'reggae', 'jazz',\n",
       "       'rock', 'rock', 'classical', 'rock', 'pop', 'reggae', 'disco',\n",
       "       'disco', 'blues', 'classical', 'reggae', 'pop', 'blues', 'hiphop',\n",
       "       'rock', 'pop', 'jazz', 'country', 'jazz', 'disco', 'hiphop',\n",
       "       'metal', 'jazz', 'jazz', 'metal', 'rock', 'blues', 'classical',\n",
       "       'pop', 'pop', 'rock', 'disco', 'metal', 'jazz', 'reggae', 'disco',\n",
       "       'hiphop', 'classical', 'classical', 'rock', 'hiphop', 'jazz',\n",
       "       'country', 'metal', 'rock', 'reggae', 'blues', 'blues',\n",
       "       'classical', 'disco', 'disco', 'pop', 'hiphop', 'pop', 'blues',\n",
       "       'metal', 'hiphop', 'rock', 'metal', 'classical', 'rock', 'blues',\n",
       "       'hiphop', 'pop', 'hiphop', 'metal', 'country', 'hiphop', 'pop',\n",
       "       'disco', 'pop', 'rock', 'classical', 'classical', 'jazz', 'blues',\n",
       "       'jazz', 'hiphop', 'hiphop', 'pop', 'reggae', 'jazz', 'classical',\n",
       "       'classical', 'disco', 'reggae', 'country', 'country', 'hiphop',\n",
       "       'classical', 'metal', 'classical', 'blues', 'reggae', 'pop',\n",
       "       'disco', 'disco', 'country', 'country', 'rock', 'metal', 'country',\n",
       "       'hiphop', 'reggae'], dtype=object)"
      ]
     },
     "execution_count": 16,
     "metadata": {},
     "output_type": "execute_result"
    }
   ],
   "source": [
    "y_pred_lr"
   ]
  },
  {
   "cell_type": "code",
   "execution_count": 17,
   "metadata": {},
   "outputs": [
    {
     "name": "stdout",
     "output_type": "stream",
     "text": [
      "Accuracy LR:  0.8433333333333334\n"
     ]
    }
   ],
   "source": [
    "accuracy_lr = accuracy_score(y_test,y_pred_lr)\n",
    "print(\"Accuracy LR: \",accuracy_lr)"
   ]
  },
  {
   "cell_type": "code",
   "execution_count": 18,
   "metadata": {},
   "outputs": [],
   "source": [
    "from sklearn.ensemble import RandomForestClassifier\n",
    "from sklearn.svm import SVC"
   ]
  },
  {
   "cell_type": "code",
   "execution_count": 19,
   "metadata": {},
   "outputs": [
    {
     "name": "stdout",
     "output_type": "stream",
     "text": [
      "Accuracy SC:  0.8366666666666667\n"
     ]
    }
   ],
   "source": [
    "sc = SVC()\n",
    "sc.fit(X_train,y_train)\n",
    "y_pred_sc = sc.predict(X_test)\n",
    "\n",
    "accuracy_sc = accuracy_score(y_test,y_pred_sc)\n",
    "print(\"Accuracy SC: \",accuracy_sc)"
   ]
  },
  {
   "cell_type": "code",
   "execution_count": 20,
   "metadata": {},
   "outputs": [
    {
     "name": "stdout",
     "output_type": "stream",
     "text": [
      "Accuracy RF:  0.9233333333333333\n"
     ]
    }
   ],
   "source": [
    "rf = RandomForestClassifier(random_state =9)\n",
    "rf.fit(X_train,y_train)\n",
    "y_pred_rf = rf.predict(X_test)\n",
    "accuracy_rf = accuracy_score(y_test,y_pred_rf)\n",
    "print(\"Accuracy RF: \",accuracy_rf)"
   ]
  },
  {
   "cell_type": "code",
   "execution_count": 22,
   "metadata": {},
   "outputs": [
    {
     "name": "stdout",
     "output_type": "stream",
     "text": [
      "Accuracy Score:  0.8933333333333333\n"
     ]
    }
   ],
   "source": [
    "from sklearn.ensemble import VotingClassifier\n",
    "from sklearn.naive_bayes import GaussianNB\n",
    "nv = GaussianNB()\n",
    "nv.fit(X_train,y_train)\n",
    "voting_clf_soft = VotingClassifier(estimators=[('lr',lr),('rf',rf),('nv',nv)],voting='soft')\n",
    "\n",
    "voting_clf_soft.fit(X_train,y_train)\n",
    "y_pred_soft = voting_clf_soft.predict(X_test)\n",
    "accuracy_soft = accuracy_score(y_test,y_pred_soft)\n",
    "print(\"Accuracy Score: \",accuracy_soft)"
   ]
  },
  {
   "cell_type": "code",
   "execution_count": 24,
   "metadata": {},
   "outputs": [
    {
     "data": {
      "text/plain": [
       "array(['blues', 'classical', 'country', 'disco', 'hiphop', 'jazz',\n",
       "       'metal', 'pop', 'reggae', 'rock'], dtype=object)"
      ]
     },
     "execution_count": 24,
     "metadata": {},
     "output_type": "execute_result"
    }
   ],
   "source": [
    "y.unique()"
   ]
  },
  {
   "cell_type": "markdown",
   "metadata": {},
   "source": [
    "# Accuracy using different classifier"
   ]
  },
  {
   "cell_type": "markdown",
   "metadata": {},
   "source": [
    "\n",
    "# RandomForestClassifier - 92.33%\n",
    "# VotingClassifier - 89.33%\n",
    "# LogisticRegression - 84.33%"
   ]
  },
  {
   "cell_type": "code",
   "execution_count": null,
   "metadata": {},
   "outputs": [],
   "source": []
  }
 ],
 "metadata": {
  "kernelspec": {
   "display_name": "Python 3",
   "language": "python",
   "name": "python3"
  },
  "language_info": {
   "codemirror_mode": {
    "name": "ipython",
    "version": 3
   },
   "file_extension": ".py",
   "mimetype": "text/x-python",
   "name": "python",
   "nbconvert_exporter": "python",
   "pygments_lexer": "ipython3",
   "version": "3.7.4"
  }
 },
 "nbformat": 4,
 "nbformat_minor": 2
}
